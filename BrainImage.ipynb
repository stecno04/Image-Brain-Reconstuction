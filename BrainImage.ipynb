{
 "cells": [
  {
   "cell_type": "code",
   "execution_count": 1,
   "metadata": {},
   "outputs": [],
   "source": [
    "import nibabel as nib\n",
    "import matplotlib.pyplot as plt\n",
    "import numpy as np\n",
    "import os\n",
    "from mayavi import mlab\n",
    "import gzip\n",
    "import shutil\n",
    "from tqdm import tqdm\n",
    "import pandas as pd\n",
    "import cv2\n",
    "import tensorflow as tf\n",
    "from PIL import Image\n",
    "import time"
   ]
  },
  {
   "cell_type": "markdown",
   "metadata": {},
   "source": [
    "# First analysis of the data"
   ]
  },
  {
   "cell_type": "code",
   "execution_count": 21,
   "metadata": {},
   "outputs": [],
   "source": [
    "# .tsv file pandas dataframe\n",
    "file_path = fr\"C:\\Users\\StefanoCarobene\\Desktop\\appunti\\DeepLearning_Project\\data_backup\\sub-01\\ses-imageryTest01\\func\\sub-01_ses-imageryTest01_task-imagery_run-01_events.tsv\"\n",
    "\n",
    "valid_lines = []\n",
    "with open(file_path, 'r', encoding='utf-8') as file:\n",
    "    for line in file:\n",
    "        try:\n",
    "            # Attempt to split the line into columns using tab as the separator\n",
    "            columns = line.strip().split('\\t')\n",
    "            valid_lines.append(columns)\n",
    "        except Exception as e:\n",
    "            print(f\"Skipping line due to error: {e}\")\n",
    "\n",
    "# Create a DataFrame from the valid lines\n",
    "tsv_df = pd.DataFrame(valid_lines)"
   ]
  },
  {
   "cell_type": "code",
   "execution_count": 3,
   "metadata": {},
   "outputs": [
    {
     "data": {
      "text/html": [
       "<div>\n",
       "<style scoped>\n",
       "    .dataframe tbody tr th:only-of-type {\n",
       "        vertical-align: middle;\n",
       "    }\n",
       "\n",
       "    .dataframe tbody tr th {\n",
       "        vertical-align: top;\n",
       "    }\n",
       "\n",
       "    .dataframe thead th {\n",
       "        text-align: right;\n",
       "    }\n",
       "</style>\n",
       "<table border=\"1\" class=\"dataframe\">\n",
       "  <thead>\n",
       "    <tr style=\"text-align: right;\">\n",
       "      <th></th>\n",
       "      <th>0</th>\n",
       "      <th>1</th>\n",
       "      <th>2</th>\n",
       "      <th>3</th>\n",
       "      <th>4</th>\n",
       "      <th>5</th>\n",
       "      <th>6</th>\n",
       "      <th>7</th>\n",
       "      <th>8</th>\n",
       "    </tr>\n",
       "  </thead>\n",
       "  <tbody>\n",
       "    <tr>\n",
       "      <th>0</th>\n",
       "      <td>onset</td>\n",
       "      <td>duration</td>\n",
       "      <td>trial_no</td>\n",
       "      <td>event_type</td>\n",
       "      <td>category_id</td>\n",
       "      <td>category_name</td>\n",
       "      <td>category_index</td>\n",
       "      <td>response_time</td>\n",
       "      <td>evaluation</td>\n",
       "    </tr>\n",
       "    <tr>\n",
       "      <th>1</th>\n",
       "      <td>0</td>\n",
       "      <td>33</td>\n",
       "      <td>1</td>\n",
       "      <td>rest</td>\n",
       "      <td>n/a</td>\n",
       "      <td>n/a</td>\n",
       "      <td>n/a</td>\n",
       "      <td>n/a</td>\n",
       "      <td>n/a</td>\n",
       "    </tr>\n",
       "    <tr>\n",
       "      <th>2</th>\n",
       "      <td>33</td>\n",
       "      <td>3</td>\n",
       "      <td>2</td>\n",
       "      <td>cue</td>\n",
       "      <td>2690373</td>\n",
       "      <td>n02690373</td>\n",
       "      <td>16</td>\n",
       "      <td>52.728104</td>\n",
       "      <td>5.0</td>\n",
       "    </tr>\n",
       "    <tr>\n",
       "      <th>3</th>\n",
       "      <td>36</td>\n",
       "      <td>15</td>\n",
       "      <td>2</td>\n",
       "      <td>imagery</td>\n",
       "      <td>2690373</td>\n",
       "      <td>n02690373</td>\n",
       "      <td>16</td>\n",
       "      <td>52.728104</td>\n",
       "      <td>5.0</td>\n",
       "    </tr>\n",
       "    <tr>\n",
       "      <th>4</th>\n",
       "      <td>51</td>\n",
       "      <td>3</td>\n",
       "      <td>2</td>\n",
       "      <td>evaluation</td>\n",
       "      <td>2690373</td>\n",
       "      <td>n02690373</td>\n",
       "      <td>16</td>\n",
       "      <td>52.728104</td>\n",
       "      <td>5.0</td>\n",
       "    </tr>\n",
       "    <tr>\n",
       "      <th>...</th>\n",
       "      <td>...</td>\n",
       "      <td>...</td>\n",
       "      <td>...</td>\n",
       "      <td>...</td>\n",
       "      <td>...</td>\n",
       "      <td>...</td>\n",
       "      <td>...</td>\n",
       "      <td>...</td>\n",
       "      <td>...</td>\n",
       "    </tr>\n",
       "    <tr>\n",
       "      <th>98</th>\n",
       "      <td>609</td>\n",
       "      <td>3</td>\n",
       "      <td>26</td>\n",
       "      <td>cue</td>\n",
       "      <td>1858441</td>\n",
       "      <td>n01858441</td>\n",
       "      <td>5</td>\n",
       "      <td>628.124058</td>\n",
       "      <td>5.0</td>\n",
       "    </tr>\n",
       "    <tr>\n",
       "      <th>99</th>\n",
       "      <td>612</td>\n",
       "      <td>15</td>\n",
       "      <td>26</td>\n",
       "      <td>imagery</td>\n",
       "      <td>1858441</td>\n",
       "      <td>n01858441</td>\n",
       "      <td>5</td>\n",
       "      <td>628.124058</td>\n",
       "      <td>5.0</td>\n",
       "    </tr>\n",
       "    <tr>\n",
       "      <th>100</th>\n",
       "      <td>627</td>\n",
       "      <td>3</td>\n",
       "      <td>26</td>\n",
       "      <td>evaluation</td>\n",
       "      <td>1858441</td>\n",
       "      <td>n01858441</td>\n",
       "      <td>5</td>\n",
       "      <td>628.124058</td>\n",
       "      <td>5.0</td>\n",
       "    </tr>\n",
       "    <tr>\n",
       "      <th>101</th>\n",
       "      <td>630</td>\n",
       "      <td>3</td>\n",
       "      <td>26</td>\n",
       "      <td>inter_rest</td>\n",
       "      <td>1858441</td>\n",
       "      <td>n01858441</td>\n",
       "      <td>5</td>\n",
       "      <td>628.124058</td>\n",
       "      <td>5.0</td>\n",
       "    </tr>\n",
       "    <tr>\n",
       "      <th>102</th>\n",
       "      <td>633</td>\n",
       "      <td>6</td>\n",
       "      <td>27</td>\n",
       "      <td>rest</td>\n",
       "      <td>n/a</td>\n",
       "      <td>n/a</td>\n",
       "      <td>n/a</td>\n",
       "      <td>n/a</td>\n",
       "      <td>n/a</td>\n",
       "    </tr>\n",
       "  </tbody>\n",
       "</table>\n",
       "<p>103 rows × 9 columns</p>\n",
       "</div>"
      ],
      "text/plain": [
       "         0         1         2           3            4              5  \\\n",
       "0    onset  duration  trial_no  event_type  category_id  category_name   \n",
       "1        0        33         1        rest          n/a            n/a   \n",
       "2       33         3         2         cue      2690373      n02690373   \n",
       "3       36        15         2     imagery      2690373      n02690373   \n",
       "4       51         3         2  evaluation      2690373      n02690373   \n",
       "..     ...       ...       ...         ...          ...            ...   \n",
       "98     609         3        26         cue      1858441      n01858441   \n",
       "99     612        15        26     imagery      1858441      n01858441   \n",
       "100    627         3        26  evaluation      1858441      n01858441   \n",
       "101    630         3        26  inter_rest      1858441      n01858441   \n",
       "102    633         6        27        rest          n/a            n/a   \n",
       "\n",
       "                  6              7           8  \n",
       "0    category_index  response_time  evaluation  \n",
       "1               n/a            n/a         n/a  \n",
       "2                16      52.728104         5.0  \n",
       "3                16      52.728104         5.0  \n",
       "4                16      52.728104         5.0  \n",
       "..              ...            ...         ...  \n",
       "98                5     628.124058         5.0  \n",
       "99                5     628.124058         5.0  \n",
       "100               5     628.124058         5.0  \n",
       "101               5     628.124058         5.0  \n",
       "102             n/a            n/a         n/a  \n",
       "\n",
       "[103 rows x 9 columns]"
      ]
     },
     "execution_count": 3,
     "metadata": {},
     "output_type": "execute_result"
    }
   ],
   "source": [
    "tsv_df"
   ]
  },
  {
   "cell_type": "code",
   "execution_count": 4,
   "metadata": {},
   "outputs": [],
   "source": [
    "path = fr\"C:\\Users\\StefanoCarobene\\Desktop\\appunti\\DeepLearning_Project\\data_backup\\sub-01\\ses-imageryTest01\\func\\sub-01_ses-imageryTest01_task-imagery_run-01_bold.nii\"\n",
    "# Replace 'your_image.nii' with the path to your NIfTI image file\n",
    "nii_image = nib.load(path)"
   ]
  },
  {
   "cell_type": "code",
   "execution_count": 9,
   "metadata": {},
   "outputs": [
    {
     "name": "stdout",
     "output_type": "stream",
     "text": [
      "(64, 64, 50, 213)\n",
      "[[200. 201. 197. ... 168. 171. 164.]\n",
      " [202. 196. 200. ... 234. 220. 248.]\n",
      " [ 50.  51.  30. ... 108. 101. 100.]\n",
      " ...\n",
      " [326. 320. 330. ... 383. 411. 428.]\n",
      " [ 37.  45.  33. ... 203. 137. 175.]\n",
      " [ 27.  17.  26. ...  27.  28.  15.]]\n"
     ]
    }
   ],
   "source": [
    "image_data = nii_image.get_fdata()\n",
    "\n",
    "print(image_data.shape)\n",
    "# print the middle pixel in rgb#\n",
    "print(image_data[45, 45])"
   ]
  },
  {
   "cell_type": "markdown",
   "metadata": {},
   "source": [
    "Abbiamo una immagine ogni tre secondi"
   ]
  },
  {
   "cell_type": "code",
   "execution_count": 10,
   "metadata": {},
   "outputs": [
    {
     "name": "stdout",
     "output_type": "stream",
     "text": [
      "Number of 3D images in the NIfTI file: 213\n"
     ]
    }
   ],
   "source": [
    "# Get the header of the NIfTI file\n",
    "header = nii_image.header\n",
    "\n",
    "# Extract the dimension information from the header\n",
    "dimensions = header.get_data_shape()\n",
    "\n",
    "# The number of images is typically the last dimension\n",
    "num_images = dimensions[-1]\n",
    "\n",
    "print(f\"Number of 3D images in the NIfTI file: {num_images}\")"
   ]
  },
  {
   "cell_type": "code",
   "execution_count": 15,
   "metadata": {},
   "outputs": [
    {
     "name": "stdout",
     "output_type": "stream",
     "text": [
      "(64, 64, 50, 213)\n"
     ]
    },
    {
     "data": {
      "image/png": "[encoded data removed]",
      "text/plain": [
       "<Figure size 640x480 with 2 Axes>"
      ]
     },
     "metadata": {},
     "output_type": "display_data"
    }
   ],
   "source": [
    "# Get the image data\n",
    "image_data = nii_image.get_fdata()\n",
    "print(image_data.shape)\n",
    "# Create a 2D plot using matplotlib\n",
    "plt.imshow(image_data[:, :, 25, 25])\n",
    "plt.title('Slice of 3D NIfTI Image')\n",
    "plt.colorbar()\n",
    "plt.show()\n"
   ]
  },
  {
   "cell_type": "markdown",
   "metadata": {},
   "source": [
    "#### open dimensional image"
   ]
  },
  {
   "cell_type": "code",
   "execution_count": 22,
   "metadata": {},
   "outputs": [],
   "source": [
    "def open34D(nii_image_path, selected_volume=0):\n",
    "    # Load the NIfTI image\n",
    "    nii_image = nib.load(nii_image_path)\n",
    "\n",
    "    # Get the image data as a NumPy array\n",
    "    img_data = nii_image.get_fdata()\n",
    "    shape = img_data.shape\n",
    "    if len(shape) == 4:\n",
    "        img_data = img_data[:, :, :, selected_volume]\n",
    "    else: \n",
    "        img_data = img_data[:, :, 86:]\n",
    "\n",
    "\n",
    "    # Check the data dimensions\n",
    "    if img_data.ndim != 3:\n",
    "        raise ValueError(\"The NIfTI image should be 3D, but it has {} dimensions.\".format(img_data.ndim))\n",
    "\n",
    "    # Check the data type (Mayavi prefers floating-point data)\n",
    "    if img_data.dtype != np.float32:\n",
    "        img_data = img_data.astype(np.float32)\n",
    "\n",
    "    # Create a Mayavi volume visualization\n",
    "    src = mlab.pipeline.scalar_field(img_data)\n",
    "    vol = mlab.pipeline.volume(src)\n",
    "\n",
    "    # Customize the visualization (optional)\n",
    "    vol._volume_property.shade = False  # Enable shading\n",
    "    vol._volume_property.diffuse = 0.7  # Adjust diffuse lighting\n",
    "    vol._volume_property.specular = 0.2  # Adjust specular lighting\n",
    "\n",
    "    # Show the visualization\n",
    "    mlab.show()\n",
    "    print(shape)"
   ]
  },
  {
   "cell_type": "code",
   "execution_count": 39,
   "metadata": {},
   "outputs": [],
   "source": [
    "def open2D(file_path, position=50):\n",
    "    # Get the image data\n",
    "    nii_image = nib.load(file_path)\n",
    "    image_data = nii_image.get_fdata()\n",
    "    \n",
    "    shape = nii_image.header.get_data_shape()\n",
    "    print(shape)\n",
    "    if len(shape) == 2:\n",
    "        plt.imshow(image_data)\n",
    "        plt.title('Slice of 3D Image')\n",
    "        plt.colorbar()\n",
    "        plt.show()\n",
    "    elif len(shape) == 3:\n",
    "        plt.imshow(image_data[:, :, position])\n",
    "        plt.title('Slice of 3D Image')\n",
    "        plt.colorbar()\n",
    "        plt.show()\n",
    "    elif len(shape) == 4:\n",
    "        image_data = image_data[:, :, :, position]\n",
    "        plt.imshow(image_data[:, :, image_data.shape[2]//2])\n",
    "        plt.title('Slice of 3D Image')\n",
    "        plt.colorbar()\n",
    "        plt.show()\n",
    "    else:\n",
    "        print(\"error, shape = \", len(shape))\n",
    "    print(shape)"
   ]
  },
  {
   "cell_type": "code",
   "execution_count": 40,
   "metadata": {},
   "outputs": [
    {
     "name": "stdout",
     "output_type": "stream",
     "text": [
      "(64, 64, 50, 213)\n"
     ]
    },
    {
     "data": {
      "image/png": "[encoded data removed]",
      "text/plain": [
       "<Figure size 640x480 with 2 Axes>"
      ]
     },
     "metadata": {},
     "output_type": "display_data"
    },
    {
     "name": "stdout",
     "output_type": "stream",
     "text": [
      "(64, 64, 50, 213)\n"
     ]
    }
   ],
   "source": [
    "open2D(path)"
   ]
  },
  {
   "cell_type": "code",
   "execution_count": 23,
   "metadata": {},
   "outputs": [
    {
     "name": "stdout",
     "output_type": "stream",
     "text": [
      "(64, 64, 50, 213)\n"
     ]
    }
   ],
   "source": [
    "open34D(path)"
   ]
  },
  {
   "cell_type": "markdown",
   "metadata": {},
   "source": [
    "#### unzip"
   ]
  },
  {
   "cell_type": "code",
   "execution_count": null,
   "metadata": {},
   "outputs": [],
   "source": [
    "def unzip(gzipped_file_path):\n",
    "    with gzip.open(gzipped_file_path, 'rb') as f_in:\n",
    "        unzipped_file_path = gzipped_file_path.replace('.gz', '')\n",
    "        with open(unzipped_file_path, 'wb') as f_out:\n",
    "            shutil.copyfileobj(f_in, f_out)\n",
    "    \n",
    "    # Delete the original gzipped file\n",
    "    os.remove(gzipped_file_path)\n",
    "    \n",
    "    return unzipped_file_path"
   ]
  },
  {
   "cell_type": "code",
   "execution_count": null,
   "metadata": {},
   "outputs": [],
   "source": [
    "# per ogni cartella e per ogni files all'interno unzip\n",
    "for root, dirs, files in os.walk(\"data\\sub-01\"):\n",
    "    for file in tqdm(files, desc=\"Processing\"):\n",
    "        try:\n",
    "            if file.endswith(\".gz\"):\n",
    "                file_path = os.path.join(root, file)\n",
    "                unzip(file_path)\n",
    "        except gzip.BadGzipFile:\n",
    "            print(f\"BadGzipFile: {file}\")\n",
    "            continue"
   ]
  },
  {
   "cell_type": "markdown",
   "metadata": {},
   "source": [
    "####"
   ]
  },
  {
   "cell_type": "code",
   "execution_count": 20,
   "metadata": {},
   "outputs": [
    {
     "name": "stdout",
     "output_type": "stream",
     "text": [
      "(64, 64, 50, 213)\n"
     ]
    },
    {
     "data": {
      "image/png": "[encoded data removed]",
      "text/plain": [
       "<Figure size 640x480 with 2 Axes>"
      ]
     },
     "metadata": {},
     "output_type": "display_data"
    },
    {
     "name": "stdout",
     "output_type": "stream",
     "text": [
      "(64, 64, 50, 213)\n"
     ]
    }
   ],
   "source": [
    "file_path = fr\"C:\\Users\\StefanoCarobene\\Desktop\\appunti\\DeepLearning_Project\\data\\sub-05\\ses-imageryTest01\\func\\sub-05_ses-imageryTest01_task-imagery_run-01_bold.nii\"\n",
    "open2D(file_path)"
   ]
  },
  {
   "cell_type": "markdown",
   "metadata": {},
   "source": [
    "# Semplification of the data"
   ]
  },
  {
   "cell_type": "markdown",
   "metadata": {},
   "source": [
    "## Primo sfoltimento"
   ]
  },
  {
   "cell_type": "code",
   "execution_count": null,
   "metadata": {},
   "outputs": [],
   "source": [
    "def sum_nii_tsv(path, x):\n",
    "    c = 0\n",
    "    # per ogni file all'interno della cartella path somma tutti i .nii e crea un unico file .nii\n",
    "    every_nii = []\n",
    "    count= 0\n",
    "    for root, dirs, files in os.walk(path):\n",
    "        for file in files:\n",
    "            if file.endswith(\".nii\"):\n",
    "                nii_image = nib.load(os.path.join(root, file))\n",
    "                image_data = nii_image.get_fdata()\n",
    "                print(\"single .nii file shape:   \", image_data.shape)\n",
    "                print(\"upper file path\", file)\n",
    "                count += image_data.shape[3]\n",
    "                every_nii.append(image_data)\n",
    "                os.remove(os.path.join(root, file))\n",
    "\n",
    "    every_nii = np.array(every_nii)\n",
    "    desired_shape = (64, 64, 50, count)\n",
    "    print(\"desired shape :  \", desired_shape)\n",
    "\n",
    "    # Create an empty array to store the sum\n",
    "    result = np.zeros(desired_shape, dtype=np.float32)\n",
    "\n",
    "    # Sum the 3D images along the fourth dimension\n",
    "    for i in range(len(every_nii)):\n",
    "        imgs = every_nii[i]\n",
    "        shape = imgs.shape[3]\n",
    "        for j in range(shape):\n",
    "            result[:, :, :, c] = imgs[:, :, :, j]\n",
    "            c += 1\n",
    "\n",
    "    # Now result should have the sum of all images\n",
    "    print(\"result:   \", result.shape)\n",
    "\n",
    "    result = result.astype(np.float32)\n",
    "    np.save(fr\"{path}\\data{x}.npy\", result)\n",
    "\n",
    "\n",
    "    # sommare files .tsv\n",
    "    valid_lines = []\n",
    "    for root, dirs, files in os.walk(path):\n",
    "        tsv_files = [file for file in files if file.endswith(\".tsv\")]\n",
    "        tsv_files.sort()  # Ordina i file in base ai loro nomi\n",
    "        for file in tsv_files:\n",
    "            print(\"tsv file \", file)\n",
    "            with open(os.path.join(root, file), 'r', encoding='utf-8') as f:\n",
    "                for line in f:\n",
    "                    try:\n",
    "                        # Attempt to split the line into columns using tab as the separator\n",
    "                        columns = line.strip().split('\\t')\n",
    "                        # se inizia con onset togli la riga\n",
    "                        if columns[0] == \"onset\":\n",
    "                            continue\n",
    "                        else:\n",
    "                            valid_lines.append(columns)\n",
    "                    except Exception as e:\n",
    "                        print(f\"Skipping line due to error: {e}\")\n",
    "            os.remove(os.path.join(root, file))\n",
    "\n",
    "\n",
    "    every_tsv= pd.DataFrame(valid_lines)\n",
    "\n",
    "    # save .csv\n",
    "    every_tsv.to_csv(fr\"{path}\\data{x}.csv\", index=False, header=False)\n"
   ]
  },
  {
   "cell_type": "code",
   "execution_count": null,
   "metadata": {},
   "outputs": [],
   "source": [
    "valid_lines = []\n",
    "for x in range(1, 4):\n",
    "    path = fr\"C:\\Users\\StefanoCarobene\\Desktop\\appunti\\DeepLearning_Project\\data\\sub-01\\ses-imageryTest0{x}\\func\"\n",
    "\n",
    "    sum_nii_tsv(path, x)\n",
    "    \n",
    "    with open(f'{path}\\data{x}.csv', 'r', encoding='utf-8') as f:\n",
    "    \n",
    "        for line in f:\n",
    "            try:\n",
    "                # Attempt to split the line into columns using tab as the separator\n",
    "                columns = line.strip().split('\\t')\n",
    "                valid_lines.append(columns)\n",
    "            except Exception as e:\n",
    "                print(f\"Skipping line due to error: {e}\")\n",
    "\n",
    "\n",
    "every_tsv = pd.DataFrame(valid_lines)\n",
    "# Save the final summed DataFrame to a new CSV file\n",
    "every_tsv.to_csv(fr\"C:\\Users\\StefanoCarobene\\Desktop\\appunti\\DeepLearning_Project\\data\\sub-01\\ses-imageryTest.csv\", index=False)\n",
    "\n"
   ]
  },
  {
   "cell_type": "code",
   "execution_count": null,
   "metadata": {},
   "outputs": [],
   "source": [
    "valid_lines = []\n",
    "for x in range(1, 5):\n",
    "    path = fr\"C:\\Users\\StefanoCarobene\\Desktop\\appunti\\DeepLearning_Project\\data\\sub-01\\ses-perceptionTest0{x}\\func\"\n",
    "    sum_nii_tsv(path, x)\n",
    "    \n",
    "    with open(f'{path}\\data{x}.csv', 'r', encoding='utf-8') as f:\n",
    "    \n",
    "        for line in f:\n",
    "            try:\n",
    "                # Attempt to split the line into columns using tab as the separator\n",
    "                columns = line.strip().split('\\t')\n",
    "                valid_lines.append(columns)\n",
    "            except Exception as e:\n",
    "                print(f\"Skipping line due to error: {e}\")\n",
    "\n",
    "\n",
    "every_tsv = pd.DataFrame(valid_lines)\n",
    "# Save the final summed DataFrame to a new CSV file\n",
    "every_tsv.to_csv(fr\"C:\\Users\\StefanoCarobene\\Desktop\\appunti\\DeepLearning_Project\\data\\sub-01\\ses-perceptionTest.csv\", index=False)"
   ]
  },
  {
   "cell_type": "code",
   "execution_count": null,
   "metadata": {},
   "outputs": [],
   "source": [
    "valid_lines = []\n",
    "for x in range(1, 4):\n",
    "    path = fr\"C:\\Users\\StefanoCarobene\\Desktop\\appunti\\DeepLearning_Project\\data\\sub-01\\ses-perceptionTraining0{x}\\func\"\n",
    "    sum_nii_tsv(path, x)\n",
    "    \n",
    "    with open(f'{path}\\data{x}.csv', 'r', encoding='utf-8') as f:\n",
    "    \n",
    "        for line in f:\n",
    "            try:\n",
    "                # Attempt to split the line into columns using tab as the separator\n",
    "                columns = line.strip().split('\\t')\n",
    "                valid_lines.append(columns)\n",
    "            except Exception as e:\n",
    "                print(f\"Skipping line due to error: {e}\")\n",
    "\n",
    "\n",
    "every_tsv = pd.DataFrame(valid_lines)\n",
    "# Save the final summed DataFrame to a new CSV file\n",
    "every_tsv.to_csv(fr\"C:\\Users\\StefanoCarobene\\Desktop\\appunti\\DeepLearning_Project\\data\\sub-01\\ses-perceptionTraining.csv\", index=False)"
   ]
  },
  {
   "cell_type": "code",
   "execution_count": null,
   "metadata": {},
   "outputs": [],
   "source": [
    "count = 0\n",
    "for x in range(3):\n",
    "    path = fr\"C:\\Users\\StefanoCarobene\\Desktop\\appunti\\DeepLearning_Project\\data\\sub-01\\ses-imageryTest0{x+1}\\func\\data{x+1}.npy\"\n",
    "    data = np.load(path)\n",
    "    print(data.shape)\n",
    "    count += data.shape[3]\n",
    "empty = np.zeros((64, 64, 50, count), dtype=np.float32)\n",
    "print(empty.shape)\n",
    "c = 0\n",
    "for x in range(3):\n",
    "    path = fr\"C:\\Users\\StefanoCarobene\\Desktop\\appunti\\DeepLearning_Project\\data\\sub-01\\ses-imageryTest0{x+1}\\func\\data{x+1}.npy\"\n",
    "    data = np.load(path)\n",
    "    for i in range(data.shape[3]):\n",
    "        empty[:, :, :, c] = data[:, :, :, i]\n",
    "        c += 1\n",
    "np.save(fr\"C:\\Users\\StefanoCarobene\\Desktop\\appunti\\DeepLearning_Project\\data\\sub-01\\ses-imageryTest.npy\", empty)"
   ]
  },
  {
   "cell_type": "code",
   "execution_count": null,
   "metadata": {},
   "outputs": [],
   "source": [
    "count = 0\n",
    "for x in range(4):\n",
    "    path = fr\"C:\\Users\\StefanoCarobene\\Desktop\\appunti\\DeepLearning_Project\\data\\sub-01\\ses-perceptionTest0{x+1}\\func\\data{x+1}.npy\"\n",
    "    data = np.load(path)\n",
    "    print(data.shape)\n",
    "    count += data.shape[3]\n",
    "empty = np.zeros((64, 64, 50, count), dtype=np.float32)\n",
    "print(empty.shape)\n",
    "c = 0\n",
    "for x in range(4):\n",
    "    path = fr\"C:\\Users\\StefanoCarobene\\Desktop\\appunti\\DeepLearning_Project\\data\\sub-01\\ses-perceptionTest0{x+1}\\func\\data{x+1}.npy\"\n",
    "    data = np.load(path)\n",
    "    for i in range(data.shape[3]):\n",
    "        empty[:, :, :, c] = data[:, :, :, i]\n",
    "        c += 1\n",
    "\n",
    "np.save(fr\"C:\\Users\\StefanoCarobene\\Desktop\\appunti\\DeepLearning_Project\\data\\sub-01\\ses-perceptionTest.npy\", empty)"
   ]
  },
  {
   "cell_type": "code",
   "execution_count": null,
   "metadata": {},
   "outputs": [],
   "source": [
    "count = 0\n",
    "for x in range(3):\n",
    "    path = fr\"C:\\Users\\StefanoCarobene\\Desktop\\appunti\\DeepLearning_Project\\data\\sub-01\\ses-perceptionTraining0{x+1}\\func\\data{x+1}.npy\"\n",
    "    data = np.load(path)\n",
    "    print(data.shape)\n",
    "    count += data.shape[3]\n",
    "empty = np.zeros((64, 64, 50, count), dtype=np.float32)\n",
    "print(empty.shape)\n",
    "c = 0\n",
    "for x in range(3):\n",
    "    path = fr\"C:\\Users\\StefanoCarobene\\Desktop\\appunti\\DeepLearning_Project\\data\\sub-01\\ses-perceptionTraining0{x+1}\\func\\data{x+1}.npy\"\n",
    "    data = np.load(path)\n",
    "    for i in range(data.shape[3]):\n",
    "        empty[:, :, :, c] = data[:, :, :, i]\n",
    "        c += 1\n",
    "np.save(fr\"C:\\Users\\StefanoCarobene\\Desktop\\appunti\\DeepLearning_Project\\data\\sub-01\\ses-perceptionTraining.npy\", empty)"
   ]
  },
  {
   "cell_type": "code",
   "execution_count": null,
   "metadata": {},
   "outputs": [],
   "source": [
    "# onset\tduration\ttrial_no\tevent_type\tcategory_id\tcategory_name\tcategory_index\tresponse_time\tevaluation\n",
    "\n",
    "header_imagery = [\"onset\", \"duration\", \"trial_no\", \"event_type\", \"category_id\", \"category_name\", \"category_index\", \"response_time\", \"evaluation\"]\n",
    "# onset\tduration\ttrial_no\tevent_type\tstimulus_id\tstimulus_name\tcategory_index\timage_index\tresponse_time\n",
    "header_perception = [\"onset\", \"duration\", \"trial_no\", \"event_type\", \"stimulus_id\", \"stimulus_name\", \"category_index\", \"image_index\", \"response_time\"]"
   ]
  },
  {
   "cell_type": "code",
   "execution_count": null,
   "metadata": {},
   "outputs": [],
   "source": [
    "imagery = pd.read_csv(fr\"C:\\Users\\StefanoCarobene\\Desktop\\appunti\\DeepLearning_Project\\data\\sub-01\\ses-imageryTest.csv\", header=None)\n",
    "imagery = imagery.iloc[1:]\n",
    "imagery.columns = header_imagery\n",
    "# save\n",
    "imagery.to_csv(fr\"C:\\Users\\StefanoCarobene\\Desktop\\appunti\\DeepLearning_Project\\data\\sub-01\\ses-imageryTest.csv\", index=False, header=True)"
   ]
  },
  {
   "cell_type": "code",
   "execution_count": null,
   "metadata": {},
   "outputs": [],
   "source": [
    "perception = pd.read_csv(fr\"C:\\Users\\StefanoCarobene\\Desktop\\appunti\\DeepLearning_Project\\data\\sub-01\\ses-perceptionTest.csv\", header=None)\n",
    "# perception = perception.iloc[1:]\n",
    "perception.columns = header_perception\n",
    "perception.to_csv(fr\"C:\\Users\\StefanoCarobene\\Desktop\\appunti\\DeepLearning_Project\\data\\sub-01\\ses-perceptionTest.csv\", index=False, header=True)"
   ]
  },
  {
   "cell_type": "code",
   "execution_count": null,
   "metadata": {},
   "outputs": [],
   "source": [
    "training = pd.read_csv(fr\"C:\\Users\\StefanoCarobene\\Desktop\\appunti\\DeepLearning_Project\\data\\sub-01\\ses-perceptionTraining.csv\", header=None)\n",
    "# training = training.iloc[1:]\n",
    "training.columns = header_perception\n",
    "training.to_csv(fr\"C:\\Users\\StefanoCarobene\\Desktop\\appunti\\DeepLearning_Project\\data\\sub-01\\ses-perceptionTraining.csv\", index=False, header=True)"
   ]
  },
  {
   "cell_type": "code",
   "execution_count": 8,
   "metadata": {},
   "outputs": [],
   "source": [
    "test = np.load(fr\"C:\\Users\\StefanoCarobene\\Desktop\\appunti\\DeepLearning_Project\\data\\sub-01\\ses-imageryTest.npy\")"
   ]
  },
  {
   "cell_type": "code",
   "execution_count": null,
   "metadata": {},
   "outputs": [],
   "source": [
    "test.shape"
   ]
  },
  {
   "cell_type": "code",
   "execution_count": 9,
   "metadata": {},
   "outputs": [
    {
     "data": {
      "text/plain": [
       "<matplotlib.image.AxesImage at 0x1fd9c454710>"
      ]
     },
     "execution_count": 9,
     "metadata": {},
     "output_type": "execute_result"
    },
    {
     "data": {
      "image/png": "[encoded data removed]",
      "text/plain": [
       "<Figure size 640x480 with 1 Axes>"
      ]
     },
     "metadata": {},
     "output_type": "display_data"
    }
   ],
   "source": [
    "# print 2d image\n",
    "plt.imshow(test[:, :, 25, 4259])"
   ]
  },
  {
   "cell_type": "markdown",
   "metadata": {},
   "source": [
    "# allineamento immagini con scansioni"
   ]
  },
  {
   "cell_type": "code",
   "execution_count": null,
   "metadata": {},
   "outputs": [],
   "source": [
    "# allineare immagine brain e immagine 2dtrasformali in array numpy\n",
    "# formato immagine 2d: Un array 4D con le dimensioni (numero_di_campioni, altezza, larghezza, canali).\n",
    "# formato immagine brain: Un array 4D con le dimensioni (numero_di_campioni, altezza, larghezza, profondità).\n"
   ]
  },
  {
   "cell_type": "code",
   "execution_count": 10,
   "metadata": {},
   "outputs": [],
   "source": [
    "pathCSV = fr\"c:\\Users\\StefanoCarobene\\Desktop\\appunti\\DeepLearning_Project\\data\\sub-01\\ses-perceptionTraining.csv\"\n",
    "df = pd.read_csv(pathCSV, index_col=False, sep=\",\")"
   ]
  },
  {
   "cell_type": "code",
   "execution_count": 11,
   "metadata": {},
   "outputs": [
    {
     "data": {
      "text/html": [
       "<div>\n",
       "<style scoped>\n",
       "    .dataframe tbody tr th:only-of-type {\n",
       "        vertical-align: middle;\n",
       "    }\n",
       "\n",
       "    .dataframe tbody tr th {\n",
       "        vertical-align: top;\n",
       "    }\n",
       "\n",
       "    .dataframe thead th {\n",
       "        text-align: right;\n",
       "    }\n",
       "</style>\n",
       "<table border=\"1\" class=\"dataframe\">\n",
       "  <thead>\n",
       "    <tr style=\"text-align: right;\">\n",
       "      <th></th>\n",
       "      <th>onset</th>\n",
       "      <th>duration</th>\n",
       "      <th>trial_no</th>\n",
       "      <th>event_type</th>\n",
       "      <th>stimulus_id</th>\n",
       "      <th>stimulus_name</th>\n",
       "      <th>category_index</th>\n",
       "      <th>image_index</th>\n",
       "      <th>response_time</th>\n",
       "    </tr>\n",
       "  </thead>\n",
       "  <tbody>\n",
       "    <tr>\n",
       "      <th>0</th>\n",
       "      <td>0</td>\n",
       "      <td>33</td>\n",
       "      <td>1</td>\n",
       "      <td>rest</td>\n",
       "      <td>NaN</td>\n",
       "      <td>NaN</td>\n",
       "      <td>NaN</td>\n",
       "      <td>NaN</td>\n",
       "      <td>NaN</td>\n",
       "    </tr>\n",
       "    <tr>\n",
       "      <th>1</th>\n",
       "      <td>33</td>\n",
       "      <td>9</td>\n",
       "      <td>2</td>\n",
       "      <td>stimulus</td>\n",
       "      <td>2.766534e+06</td>\n",
       "      <td>n02766534_15976</td>\n",
       "      <td>41.0</td>\n",
       "      <td>324.0</td>\n",
       "      <td>NaN</td>\n",
       "    </tr>\n",
       "    <tr>\n",
       "      <th>2</th>\n",
       "      <td>42</td>\n",
       "      <td>9</td>\n",
       "      <td>3</td>\n",
       "      <td>stimulus</td>\n",
       "      <td>1.970164e+06</td>\n",
       "      <td>n01970164_28566</td>\n",
       "      <td>17.0</td>\n",
       "      <td>134.0</td>\n",
       "      <td>NaN</td>\n",
       "    </tr>\n",
       "    <tr>\n",
       "      <th>3</th>\n",
       "      <td>51</td>\n",
       "      <td>9</td>\n",
       "      <td>4</td>\n",
       "      <td>stimulus</td>\n",
       "      <td>4.376876e+06</td>\n",
       "      <td>n04376876_11868</td>\n",
       "      <td>127.0</td>\n",
       "      <td>1011.0</td>\n",
       "      <td>NaN</td>\n",
       "    </tr>\n",
       "    <tr>\n",
       "      <th>4</th>\n",
       "      <td>60</td>\n",
       "      <td>9</td>\n",
       "      <td>5</td>\n",
       "      <td>stimulus</td>\n",
       "      <td>4.225987e+06</td>\n",
       "      <td>n04225987_6665</td>\n",
       "      <td>117.0</td>\n",
       "      <td>934.0</td>\n",
       "      <td>NaN</td>\n",
       "    </tr>\n",
       "    <tr>\n",
       "      <th>...</th>\n",
       "      <td>...</td>\n",
       "      <td>...</td>\n",
       "      <td>...</td>\n",
       "      <td>...</td>\n",
       "      <td>...</td>\n",
       "      <td>...</td>\n",
       "      <td>...</td>\n",
       "      <td>...</td>\n",
       "      <td>...</td>\n",
       "    </tr>\n",
       "    <tr>\n",
       "      <th>1363</th>\n",
       "      <td>492</td>\n",
       "      <td>9</td>\n",
       "      <td>53</td>\n",
       "      <td>stimulus</td>\n",
       "      <td>2.054036e+06</td>\n",
       "      <td>n02054036_5709</td>\n",
       "      <td>19.0</td>\n",
       "      <td>150.0</td>\n",
       "      <td>NaN</td>\n",
       "    </tr>\n",
       "    <tr>\n",
       "      <th>1364</th>\n",
       "      <td>501</td>\n",
       "      <td>9</td>\n",
       "      <td>54</td>\n",
       "      <td>stimulus</td>\n",
       "      <td>1.639765e+06</td>\n",
       "      <td>n01639765_47681</td>\n",
       "      <td>2.0</td>\n",
       "      <td>14.0</td>\n",
       "      <td>NaN</td>\n",
       "    </tr>\n",
       "    <tr>\n",
       "      <th>1365</th>\n",
       "      <td>510</td>\n",
       "      <td>9</td>\n",
       "      <td>55</td>\n",
       "      <td>stimulus</td>\n",
       "      <td>3.397947e+06</td>\n",
       "      <td>n03397947_7453</td>\n",
       "      <td>68.0</td>\n",
       "      <td>542.0</td>\n",
       "      <td>NaN</td>\n",
       "    </tr>\n",
       "    <tr>\n",
       "      <th>1366</th>\n",
       "      <td>519</td>\n",
       "      <td>9</td>\n",
       "      <td>56</td>\n",
       "      <td>stimulus</td>\n",
       "      <td>2.508213e+06</td>\n",
       "      <td>n02508213_10059</td>\n",
       "      <td>39.0</td>\n",
       "      <td>305.0</td>\n",
       "      <td>NaN</td>\n",
       "    </tr>\n",
       "    <tr>\n",
       "      <th>1367</th>\n",
       "      <td>528</td>\n",
       "      <td>6</td>\n",
       "      <td>57</td>\n",
       "      <td>rest</td>\n",
       "      <td>NaN</td>\n",
       "      <td>NaN</td>\n",
       "      <td>NaN</td>\n",
       "      <td>NaN</td>\n",
       "      <td>NaN</td>\n",
       "    </tr>\n",
       "  </tbody>\n",
       "</table>\n",
       "<p>1368 rows × 9 columns</p>\n",
       "</div>"
      ],
      "text/plain": [
       "      onset  duration  trial_no event_type   stimulus_id    stimulus_name  \\\n",
       "0         0        33         1       rest           NaN              NaN   \n",
       "1        33         9         2   stimulus  2.766534e+06  n02766534_15976   \n",
       "2        42         9         3   stimulus  1.970164e+06  n01970164_28566   \n",
       "3        51         9         4   stimulus  4.376876e+06  n04376876_11868   \n",
       "4        60         9         5   stimulus  4.225987e+06   n04225987_6665   \n",
       "...     ...       ...       ...        ...           ...              ...   \n",
       "1363    492         9        53   stimulus  2.054036e+06   n02054036_5709   \n",
       "1364    501         9        54   stimulus  1.639765e+06  n01639765_47681   \n",
       "1365    510         9        55   stimulus  3.397947e+06   n03397947_7453   \n",
       "1366    519         9        56   stimulus  2.508213e+06  n02508213_10059   \n",
       "1367    528         6        57       rest           NaN              NaN   \n",
       "\n",
       "      category_index  image_index  response_time  \n",
       "0                NaN          NaN            NaN  \n",
       "1               41.0        324.0            NaN  \n",
       "2               17.0        134.0            NaN  \n",
       "3              127.0       1011.0            NaN  \n",
       "4              117.0        934.0            NaN  \n",
       "...              ...          ...            ...  \n",
       "1363            19.0        150.0            NaN  \n",
       "1364             2.0         14.0            NaN  \n",
       "1365            68.0        542.0            NaN  \n",
       "1366            39.0        305.0            NaN  \n",
       "1367             NaN          NaN            NaN  \n",
       "\n",
       "[1368 rows x 9 columns]"
      ]
     },
     "execution_count": 11,
     "metadata": {},
     "output_type": "execute_result"
    }
   ],
   "source": [
    "df"
   ]
  },
  {
   "cell_type": "code",
   "execution_count": 24,
   "metadata": {},
   "outputs": [],
   "source": [
    "images = fr\"C:\\Users\\StefanoCarobene\\Desktop\\appunti\\DeepLearning_Project\\data\\images\\test\""
   ]
  },
  {
   "cell_type": "code",
   "execution_count": 23,
   "metadata": {},
   "outputs": [],
   "source": [
    "def ImageBrain(brains, df, x):\n",
    "    durata = 0\n",
    "    brain = brains[:, :, :, x]  \n",
    "    x = x*3\n",
    "    for index in range(df.shape[0]):\n",
    "        try:\n",
    "            duration = df[\"duration\"][index]\n",
    "            duration = int(duration)\n",
    "            durata += duration\n",
    "            if durata > x:\n",
    "                stimolo = df[\"stimulus_name\"][index]\n",
    "                break\n",
    "        except:\n",
    "            print(\"error\")\n",
    "            continue\n",
    "    for root, dirs, files in os.walk(images):\n",
    "        for file in files:\n",
    "            if file.startswith(stimolo):\n",
    "                print(\"file: \", file)\n",
    "                # return a numpy image\n",
    "                image_np = plt.imread(os.path.join(root, file))\n",
    "                image_np = cv2.resize(image_np, (64, 64))\n",
    "                break\n",
    "    return image_np, brain"
   ]
  },
  {
   "cell_type": "code",
   "execution_count": 27,
   "metadata": {},
   "outputs": [],
   "source": [
    "def preproFinale(pathBrain, pathCSV):\n",
    "    test = np.load(pathBrain)\n",
    "    print(test.shape)\n",
    "    brains_vari = np.zeros((64, 64, 50, test.shape[3]), dtype=np.float32)\n",
    "    features_vari = np.zeros((64, 64, 3, test.shape[3]), dtype=np.float32)\n",
    "    #64*64*50*batch_size\n",
    "    c = 0\n",
    "    df = pd.read_csv(pathCSV, index_col=False, sep=\",\")\n",
    "\n",
    "    for x in range(test.shape[3]):\n",
    "        try:\n",
    "            print(test.shape[3])\n",
    "            feature, brain = ImageBrain(test, df, x)\n",
    "            print(feature.shape)\n",
    "            brains_vari[:, :, :, x] = brain\n",
    "            features_vari[:, :, :, x] = feature\n",
    "            c = c+1\n",
    "        except:\n",
    "            print(\"typeError\")\n",
    "            continue\n",
    "\n",
    "    print(c)\n",
    "\n",
    "    return brains_vari, features_vari"
   ]
  },
  {
   "cell_type": "code",
   "execution_count": 29,
   "metadata": {},
   "outputs": [
    {
     "name": "stdout",
     "output_type": "stream",
     "text": [
      "(4272, 64, 64, 50)\n",
      "50\n",
      "typeError\n",
      "50\n",
      "typeError\n",
      "50\n",
      "typeError\n",
      "50\n",
      "typeError\n",
      "50\n",
      "typeError\n",
      "50\n",
      "typeError\n",
      "50\n",
      "typeError\n",
      "50\n",
      "typeError\n",
      "50\n",
      "typeError\n",
      "50\n",
      "typeError\n",
      "50\n",
      "typeError\n",
      "50\n",
      "file:  n02766534_15976.JPEG\n",
      "(64, 64, 3)\n",
      "typeError\n",
      "50\n",
      "file:  n02766534_15976.JPEG\n",
      "(64, 64, 3)\n",
      "typeError\n",
      "50\n",
      "file:  n02766534_15976.JPEG\n",
      "(64, 64, 3)\n",
      "typeError\n",
      "50\n",
      "file:  n01970164_28566.JPEG\n",
      "(64, 64, 3)\n",
      "typeError\n",
      "50\n",
      "file:  n01970164_28566.JPEG\n",
      "(64, 64, 3)\n",
      "typeError\n",
      "50\n",
      "file:  n01970164_28566.JPEG\n",
      "(64, 64, 3)\n",
      "typeError\n",
      "50\n",
      "file:  n04376876_11868.JPEG\n",
      "(64, 64, 3)\n",
      "typeError\n",
      "50\n",
      "file:  n04376876_11868.JPEG\n",
      "(64, 64, 3)\n",
      "typeError\n",
      "50\n",
      "file:  n04376876_11868.JPEG\n",
      "(64, 64, 3)\n",
      "typeError\n",
      "50\n",
      "file:  n04225987_6665.JPEG\n",
      "(64, 64, 3)\n",
      "typeError\n",
      "50\n",
      "file:  n04225987_6665.JPEG\n",
      "(64, 64, 3)\n",
      "typeError\n",
      "50\n",
      "file:  n04225987_6665.JPEG\n",
      "(64, 64, 3)\n",
      "typeError\n",
      "50\n",
      "file:  n03079230_8270.JPEG\n",
      "(64, 64, 3)\n",
      "typeError\n",
      "50\n",
      "file:  n03079230_8270.JPEG\n",
      "(64, 64, 3)\n",
      "typeError\n",
      "50\n",
      "file:  n03079230_8270.JPEG\n",
      "(64, 64, 3)\n",
      "typeError\n",
      "50\n",
      "file:  n03079230_8270.JPEG\n",
      "(64, 64, 3)\n",
      "typeError\n",
      "50\n",
      "file:  n03079230_8270.JPEG\n",
      "(64, 64, 3)\n",
      "typeError\n",
      "50\n",
      "file:  n03079230_8270.JPEG\n",
      "(64, 64, 3)\n",
      "typeError\n",
      "50\n",
      "file:  n03394916_23304.JPEG\n",
      "(64, 64, 3)\n",
      "typeError\n",
      "50\n",
      "file:  n03394916_23304.JPEG\n",
      "(64, 64, 3)\n",
      "typeError\n",
      "50\n",
      "file:  n03394916_23304.JPEG\n",
      "(64, 64, 3)\n",
      "typeError\n",
      "50\n",
      "file:  n01877134_11991.JPEG\n",
      "(64, 64, 3)\n",
      "typeError\n",
      "50\n",
      "file:  n01877134_11991.JPEG\n",
      "(64, 64, 3)\n",
      "typeError\n",
      "50\n",
      "file:  n01877134_11991.JPEG\n",
      "(64, 64, 3)\n",
      "typeError\n",
      "50\n",
      "file:  n03924679_11429.JPEG\n",
      "(64, 64, 3)\n",
      "typeError\n",
      "50\n",
      "file:  n03924679_11429.JPEG\n",
      "(64, 64, 3)\n",
      "typeError\n",
      "50\n",
      "file:  n03924679_11429.JPEG\n",
      "(64, 64, 3)\n",
      "typeError\n",
      "50\n",
      "file:  n03602883_14315.JPEG\n",
      "(64, 64, 3)\n",
      "typeError\n",
      "50\n",
      "file:  n03602883_14315.JPEG\n",
      "(64, 64, 3)\n",
      "typeError\n",
      "50\n",
      "file:  n03602883_14315.JPEG\n",
      "(64, 64, 3)\n",
      "typeError\n",
      "50\n",
      "file:  n02317335_21319.JPEG\n",
      "(64, 64, 3)\n",
      "typeError\n",
      "50\n",
      "file:  n02317335_21319.JPEG\n",
      "(64, 64, 3)\n",
      "typeError\n",
      "50\n",
      "file:  n02317335_21319.JPEG\n",
      "(64, 64, 3)\n",
      "typeError\n",
      "50\n",
      "file:  n02090827_10084.JPEG\n",
      "(64, 64, 3)\n",
      "typeError\n",
      "50\n",
      "file:  n02090827_10084.JPEG\n",
      "(64, 64, 3)\n",
      "typeError\n",
      "50\n",
      "file:  n02090827_10084.JPEG\n",
      "(64, 64, 3)\n",
      "typeError\n",
      "50\n",
      "file:  n04009552_10330.JPEG\n",
      "(64, 64, 3)\n",
      "typeError\n",
      "50\n",
      "file:  n04009552_10330.JPEG\n",
      "(64, 64, 3)\n",
      "typeError\n",
      "50\n",
      "file:  n04009552_10330.JPEG\n",
      "(64, 64, 3)\n",
      "typeError\n",
      "0\n"
     ]
    }
   ],
   "source": [
    "brains_path = fr\"C:\\Users\\StefanoCarobene\\Desktop\\appunti\\DeepLearning_Project\\data\\sub-01\\ses-perceptionTraining.npy\"\n",
    "csv_path = fr\"c:\\Users\\StefanoCarobene\\Desktop\\appunti\\DeepLearning_Project\\data\\sub-01\\ses-perceptionTraining.csv\"\n",
    "brains_vari, features_vari = preproFinale(brains_path, csv_path)"
   ]
  },
  {
   "cell_type": "code",
   "execution_count": 80,
   "metadata": {},
   "outputs": [
    {
     "data": {
      "text/plain": [
       "(4272, 64, 64, 50)"
      ]
     },
     "execution_count": 80,
     "metadata": {},
     "output_type": "execute_result"
    }
   ],
   "source": [
    "brains_vari = np.transpose(brains_vari, (3, 0, 1, 2))\n",
    "brains_vari.shape"
   ]
  },
  {
   "cell_type": "code",
   "execution_count": 81,
   "metadata": {},
   "outputs": [
    {
     "data": {
      "text/plain": [
       "(4272, 64, 64, 3)"
      ]
     },
     "execution_count": 81,
     "metadata": {},
     "output_type": "execute_result"
    }
   ],
   "source": [
    "features_vari = np.transpose(features_vari, (3, 0, 1, 2))\n",
    "features_vari.shape"
   ]
  },
  {
   "cell_type": "code",
   "execution_count": 82,
   "metadata": {},
   "outputs": [],
   "source": [
    "# Normalize the data (you can use any appropriate scaling method)\n",
    "brains_vari = brains_vari / 255.0\n",
    "features_vari = features_vari / 255.0"
   ]
  },
  {
   "cell_type": "code",
   "execution_count": 83,
   "metadata": {},
   "outputs": [],
   "source": [
    "np.save(fr\"C:\\Users\\StefanoCarobene\\Desktop\\appunti\\DeepLearning_Project\\data\\sub-01\\ses-perceptionTrainingImages.npy\", features_vari)\n",
    "np.save(fr\"C:\\Users\\StefanoCarobene\\Desktop\\appunti\\DeepLearning_Project\\data\\sub-01\\ses-perceptionTraining.npy\", brains_vari)"
   ]
  },
  {
   "cell_type": "markdown",
   "metadata": {},
   "source": [
    "# Training"
   ]
  },
  {
   "cell_type": "code",
   "execution_count": 13,
   "metadata": {},
   "outputs": [],
   "source": [
    "# imput\n",
    "from tensorflow.keras.layers import Input\n",
    "# layers\n",
    "from tensorflow.keras.layers import Conv2D, MaxPooling2D, UpSampling2D, Dense, Flatten\n",
    "from tensorflow.keras.models import Model\n",
    "from tensorflow.keras.callbacks import ModelCheckpoint, EarlyStopping, TensorBoard, ReduceLROnPlateau, LearningRateScheduler\n",
    "# sequential\n",
    "from tensorflow.keras.models import Sequential\n",
    "from tensorflow.keras.metrics import RootMeanSquaredError, MeanAbsoluteError, MeanSquaredLogarithmicError, CosineSimilarity, LogCoshError\n",
    "from tensorflow.keras.losses import MeanSquaredError, MeanAbsoluteError"
   ]
  },
  {
   "cell_type": "code",
   "execution_count": 14,
   "metadata": {},
   "outputs": [],
   "source": [
    "images = np.load(fr\"C:\\Users\\StefanoCarobene\\Desktop\\appunti\\DeepLearning_Project\\data\\sub-01\\ses-perceptionTrainingImages.npy\")"
   ]
  },
  {
   "cell_type": "code",
   "execution_count": 15,
   "metadata": {},
   "outputs": [],
   "source": [
    "brain_scans = np.load(fr\"C:\\Users\\StefanoCarobene\\Desktop\\appunti\\DeepLearning_Project\\data\\sub-01\\ses-perceptionTraining.npy\")"
   ]
  },
  {
   "cell_type": "markdown",
   "metadata": {},
   "source": [
    "## Prima prova"
   ]
  },
  {
   "cell_type": "code",
   "execution_count": 49,
   "metadata": {},
   "outputs": [
    {
     "name": "stdout",
     "output_type": "stream",
     "text": [
      "Epoch 1/50\n",
      "  7/107 [>.............................] - ETA: 36:26 - loss: 0.2967 - root_mean_squared_error: 0.3499"
     ]
    },
    {
     "ename": "KeyboardInterrupt",
     "evalue": "",
     "output_type": "error",
     "traceback": [
      "\u001b[1;31m---------------------------------------------------------------------------\u001b[0m",
      "\u001b[1;31mKeyboardInterrupt\u001b[0m                         Traceback (most recent call last)",
      "\u001b[1;32mc:\\Users\\StefanoCarobene\\Desktop\\appunti\\DeepLearning_Project\\BrainImage.ipynb Cell 52\u001b[0m line \u001b[0;36m6\n\u001b[0;32m     <a href='vscode-notebook-cell:/c%3A/Users/StefanoCarobene/Desktop/appunti/DeepLearning_Project/BrainImage.ipynb#Y262sZmlsZQ%3D%3D?line=55'>56</a>\u001b[0m autoencoder\u001b[39m.\u001b[39mcompile(optimizer\u001b[39m=\u001b[39m\u001b[39m'\u001b[39m\u001b[39madam\u001b[39m\u001b[39m'\u001b[39m, loss\u001b[39m=\u001b[39mMeanAbsoluteError(), metrics\u001b[39m=\u001b[39mRootMeanSquaredError())  \u001b[39m# You can use other loss functions depending on your data and goals\u001b[39;00m\n\u001b[0;32m     <a href='vscode-notebook-cell:/c%3A/Users/StefanoCarobene/Desktop/appunti/DeepLearning_Project/BrainImage.ipynb#Y262sZmlsZQ%3D%3D?line=58'>59</a>\u001b[0m \u001b[39m# Train the autoencoder\u001b[39;00m\n\u001b[1;32m---> <a href='vscode-notebook-cell:/c%3A/Users/StefanoCarobene/Desktop/appunti/DeepLearning_Project/BrainImage.ipynb#Y262sZmlsZQ%3D%3D?line=59'>60</a>\u001b[0m autoencoder\u001b[39m.\u001b[39;49mfit(brain_scans, \n\u001b[0;32m     <a href='vscode-notebook-cell:/c%3A/Users/StefanoCarobene/Desktop/appunti/DeepLearning_Project/BrainImage.ipynb#Y262sZmlsZQ%3D%3D?line=60'>61</a>\u001b[0m                 images, \n\u001b[0;32m     <a href='vscode-notebook-cell:/c%3A/Users/StefanoCarobene/Desktop/appunti/DeepLearning_Project/BrainImage.ipynb#Y262sZmlsZQ%3D%3D?line=61'>62</a>\u001b[0m                 epochs\u001b[39m=\u001b[39;49m\u001b[39m50\u001b[39;49m, \n\u001b[0;32m     <a href='vscode-notebook-cell:/c%3A/Users/StefanoCarobene/Desktop/appunti/DeepLearning_Project/BrainImage.ipynb#Y262sZmlsZQ%3D%3D?line=62'>63</a>\u001b[0m                 batch_size\u001b[39m=\u001b[39;49m\u001b[39m64\u001b[39;49m, \n\u001b[0;32m     <a href='vscode-notebook-cell:/c%3A/Users/StefanoCarobene/Desktop/appunti/DeepLearning_Project/BrainImage.ipynb#Y262sZmlsZQ%3D%3D?line=63'>64</a>\u001b[0m                 shuffle\u001b[39m=\u001b[39;49m\u001b[39mTrue\u001b[39;49;00m, \n\u001b[0;32m     <a href='vscode-notebook-cell:/c%3A/Users/StefanoCarobene/Desktop/appunti/DeepLearning_Project/BrainImage.ipynb#Y262sZmlsZQ%3D%3D?line=64'>65</a>\u001b[0m                 validation_split\u001b[39m=\u001b[39;49m\u001b[39m0.2\u001b[39;49m,\n\u001b[0;32m     <a href='vscode-notebook-cell:/c%3A/Users/StefanoCarobene/Desktop/appunti/DeepLearning_Project/BrainImage.ipynb#Y262sZmlsZQ%3D%3D?line=65'>66</a>\u001b[0m                 steps_per_epoch\u001b[39m=\u001b[39;49m\u001b[39m107\u001b[39;49m,\n\u001b[0;32m     <a href='vscode-notebook-cell:/c%3A/Users/StefanoCarobene/Desktop/appunti/DeepLearning_Project/BrainImage.ipynb#Y262sZmlsZQ%3D%3D?line=66'>67</a>\u001b[0m                 initial_epoch\u001b[39m=\u001b[39;49m\u001b[39m0\u001b[39;49m,\n\u001b[0;32m     <a href='vscode-notebook-cell:/c%3A/Users/StefanoCarobene/Desktop/appunti/DeepLearning_Project/BrainImage.ipynb#Y262sZmlsZQ%3D%3D?line=67'>68</a>\u001b[0m                 callbacks\u001b[39m=\u001b[39;49mcallbacks\n\u001b[0;32m     <a href='vscode-notebook-cell:/c%3A/Users/StefanoCarobene/Desktop/appunti/DeepLearning_Project/BrainImage.ipynb#Y262sZmlsZQ%3D%3D?line=68'>69</a>\u001b[0m                 )\n\u001b[0;32m     <a href='vscode-notebook-cell:/c%3A/Users/StefanoCarobene/Desktop/appunti/DeepLearning_Project/BrainImage.ipynb#Y262sZmlsZQ%3D%3D?line=71'>72</a>\u001b[0m model_path \u001b[39m=\u001b[39m \u001b[39mfr\u001b[39m\u001b[39m\"\u001b[39m\u001b[39mautoencoder.keras\u001b[39m\u001b[39m\"\u001b[39m\n\u001b[0;32m     <a href='vscode-notebook-cell:/c%3A/Users/StefanoCarobene/Desktop/appunti/DeepLearning_Project/BrainImage.ipynb#Y262sZmlsZQ%3D%3D?line=72'>73</a>\u001b[0m \u001b[39m# Save the model\u001b[39;00m\n",
      "File \u001b[1;32mc:\\Users\\StefanoCarobene\\anaconda3\\envs\\machine_learning\\Lib\\site-packages\\keras\\src\\utils\\traceback_utils.py:65\u001b[0m, in \u001b[0;36mfilter_traceback.<locals>.error_handler\u001b[1;34m(*args, **kwargs)\u001b[0m\n\u001b[0;32m     63\u001b[0m filtered_tb \u001b[39m=\u001b[39m \u001b[39mNone\u001b[39;00m\n\u001b[0;32m     64\u001b[0m \u001b[39mtry\u001b[39;00m:\n\u001b[1;32m---> 65\u001b[0m     \u001b[39mreturn\u001b[39;00m fn(\u001b[39m*\u001b[39;49margs, \u001b[39m*\u001b[39;49m\u001b[39m*\u001b[39;49mkwargs)\n\u001b[0;32m     66\u001b[0m \u001b[39mexcept\u001b[39;00m \u001b[39mException\u001b[39;00m \u001b[39mas\u001b[39;00m e:\n\u001b[0;32m     67\u001b[0m     filtered_tb \u001b[39m=\u001b[39m _process_traceback_frames(e\u001b[39m.\u001b[39m__traceback__)\n",
      "File \u001b[1;32mc:\\Users\\StefanoCarobene\\anaconda3\\envs\\machine_learning\\Lib\\site-packages\\keras\\src\\engine\\training.py:1742\u001b[0m, in \u001b[0;36mModel.fit\u001b[1;34m(self, x, y, batch_size, epochs, verbose, callbacks, validation_split, validation_data, shuffle, class_weight, sample_weight, initial_epoch, steps_per_epoch, validation_steps, validation_batch_size, validation_freq, max_queue_size, workers, use_multiprocessing)\u001b[0m\n\u001b[0;32m   1734\u001b[0m \u001b[39mwith\u001b[39;00m tf\u001b[39m.\u001b[39mprofiler\u001b[39m.\u001b[39mexperimental\u001b[39m.\u001b[39mTrace(\n\u001b[0;32m   1735\u001b[0m     \u001b[39m\"\u001b[39m\u001b[39mtrain\u001b[39m\u001b[39m\"\u001b[39m,\n\u001b[0;32m   1736\u001b[0m     epoch_num\u001b[39m=\u001b[39mepoch,\n\u001b[1;32m   (...)\u001b[0m\n\u001b[0;32m   1739\u001b[0m     _r\u001b[39m=\u001b[39m\u001b[39m1\u001b[39m,\n\u001b[0;32m   1740\u001b[0m ):\n\u001b[0;32m   1741\u001b[0m     callbacks\u001b[39m.\u001b[39mon_train_batch_begin(step)\n\u001b[1;32m-> 1742\u001b[0m     tmp_logs \u001b[39m=\u001b[39m \u001b[39mself\u001b[39;49m\u001b[39m.\u001b[39;49mtrain_function(iterator)\n\u001b[0;32m   1743\u001b[0m     \u001b[39mif\u001b[39;00m data_handler\u001b[39m.\u001b[39mshould_sync:\n\u001b[0;32m   1744\u001b[0m         context\u001b[39m.\u001b[39masync_wait()\n",
      "File \u001b[1;32mc:\\Users\\StefanoCarobene\\anaconda3\\envs\\machine_learning\\Lib\\site-packages\\tensorflow\\python\\util\\traceback_utils.py:150\u001b[0m, in \u001b[0;36mfilter_traceback.<locals>.error_handler\u001b[1;34m(*args, **kwargs)\u001b[0m\n\u001b[0;32m    148\u001b[0m filtered_tb \u001b[39m=\u001b[39m \u001b[39mNone\u001b[39;00m\n\u001b[0;32m    149\u001b[0m \u001b[39mtry\u001b[39;00m:\n\u001b[1;32m--> 150\u001b[0m   \u001b[39mreturn\u001b[39;00m fn(\u001b[39m*\u001b[39;49margs, \u001b[39m*\u001b[39;49m\u001b[39m*\u001b[39;49mkwargs)\n\u001b[0;32m    151\u001b[0m \u001b[39mexcept\u001b[39;00m \u001b[39mException\u001b[39;00m \u001b[39mas\u001b[39;00m e:\n\u001b[0;32m    152\u001b[0m   filtered_tb \u001b[39m=\u001b[39m _process_traceback_frames(e\u001b[39m.\u001b[39m__traceback__)\n",
      "File \u001b[1;32mc:\\Users\\StefanoCarobene\\anaconda3\\envs\\machine_learning\\Lib\\site-packages\\tensorflow\\python\\eager\\polymorphic_function\\polymorphic_function.py:825\u001b[0m, in \u001b[0;36mFunction.__call__\u001b[1;34m(self, *args, **kwds)\u001b[0m\n\u001b[0;32m    822\u001b[0m compiler \u001b[39m=\u001b[39m \u001b[39m\"\u001b[39m\u001b[39mxla\u001b[39m\u001b[39m\"\u001b[39m \u001b[39mif\u001b[39;00m \u001b[39mself\u001b[39m\u001b[39m.\u001b[39m_jit_compile \u001b[39melse\u001b[39;00m \u001b[39m\"\u001b[39m\u001b[39mnonXla\u001b[39m\u001b[39m\"\u001b[39m\n\u001b[0;32m    824\u001b[0m \u001b[39mwith\u001b[39;00m OptionalXlaContext(\u001b[39mself\u001b[39m\u001b[39m.\u001b[39m_jit_compile):\n\u001b[1;32m--> 825\u001b[0m   result \u001b[39m=\u001b[39m \u001b[39mself\u001b[39;49m\u001b[39m.\u001b[39;49m_call(\u001b[39m*\u001b[39;49margs, \u001b[39m*\u001b[39;49m\u001b[39m*\u001b[39;49mkwds)\n\u001b[0;32m    827\u001b[0m new_tracing_count \u001b[39m=\u001b[39m \u001b[39mself\u001b[39m\u001b[39m.\u001b[39mexperimental_get_tracing_count()\n\u001b[0;32m    828\u001b[0m without_tracing \u001b[39m=\u001b[39m (tracing_count \u001b[39m==\u001b[39m new_tracing_count)\n",
      "File \u001b[1;32mc:\\Users\\StefanoCarobene\\anaconda3\\envs\\machine_learning\\Lib\\site-packages\\tensorflow\\python\\eager\\polymorphic_function\\polymorphic_function.py:857\u001b[0m, in \u001b[0;36mFunction._call\u001b[1;34m(self, *args, **kwds)\u001b[0m\n\u001b[0;32m    854\u001b[0m   \u001b[39mself\u001b[39m\u001b[39m.\u001b[39m_lock\u001b[39m.\u001b[39mrelease()\n\u001b[0;32m    855\u001b[0m   \u001b[39m# In this case we have created variables on the first call, so we run the\u001b[39;00m\n\u001b[0;32m    856\u001b[0m   \u001b[39m# defunned version which is guaranteed to never create variables.\u001b[39;00m\n\u001b[1;32m--> 857\u001b[0m   \u001b[39mreturn\u001b[39;00m \u001b[39mself\u001b[39;49m\u001b[39m.\u001b[39;49m_no_variable_creation_fn(\u001b[39m*\u001b[39;49margs, \u001b[39m*\u001b[39;49m\u001b[39m*\u001b[39;49mkwds)  \u001b[39m# pylint: disable=not-callable\u001b[39;00m\n\u001b[0;32m    858\u001b[0m \u001b[39melif\u001b[39;00m \u001b[39mself\u001b[39m\u001b[39m.\u001b[39m_variable_creation_fn \u001b[39mis\u001b[39;00m \u001b[39mnot\u001b[39;00m \u001b[39mNone\u001b[39;00m:\n\u001b[0;32m    859\u001b[0m   \u001b[39m# Release the lock early so that multiple threads can perform the call\u001b[39;00m\n\u001b[0;32m    860\u001b[0m   \u001b[39m# in parallel.\u001b[39;00m\n\u001b[0;32m    861\u001b[0m   \u001b[39mself\u001b[39m\u001b[39m.\u001b[39m_lock\u001b[39m.\u001b[39mrelease()\n",
      "File \u001b[1;32mc:\\Users\\StefanoCarobene\\anaconda3\\envs\\machine_learning\\Lib\\site-packages\\tensorflow\\python\\eager\\polymorphic_function\\tracing_compiler.py:148\u001b[0m, in \u001b[0;36mTracingCompiler.__call__\u001b[1;34m(self, *args, **kwargs)\u001b[0m\n\u001b[0;32m    145\u001b[0m \u001b[39mwith\u001b[39;00m \u001b[39mself\u001b[39m\u001b[39m.\u001b[39m_lock:\n\u001b[0;32m    146\u001b[0m   (concrete_function,\n\u001b[0;32m    147\u001b[0m    filtered_flat_args) \u001b[39m=\u001b[39m \u001b[39mself\u001b[39m\u001b[39m.\u001b[39m_maybe_define_function(args, kwargs)\n\u001b[1;32m--> 148\u001b[0m \u001b[39mreturn\u001b[39;00m concrete_function\u001b[39m.\u001b[39;49m_call_flat(\n\u001b[0;32m    149\u001b[0m     filtered_flat_args, captured_inputs\u001b[39m=\u001b[39;49mconcrete_function\u001b[39m.\u001b[39;49mcaptured_inputs)\n",
      "File \u001b[1;32mc:\\Users\\StefanoCarobene\\anaconda3\\envs\\machine_learning\\Lib\\site-packages\\tensorflow\\python\\eager\\polymorphic_function\\monomorphic_function.py:1349\u001b[0m, in \u001b[0;36mConcreteFunction._call_flat\u001b[1;34m(self, args, captured_inputs)\u001b[0m\n\u001b[0;32m   1345\u001b[0m possible_gradient_type \u001b[39m=\u001b[39m gradients_util\u001b[39m.\u001b[39mPossibleTapeGradientTypes(args)\n\u001b[0;32m   1346\u001b[0m \u001b[39mif\u001b[39;00m (possible_gradient_type \u001b[39m==\u001b[39m gradients_util\u001b[39m.\u001b[39mPOSSIBLE_GRADIENT_TYPES_NONE\n\u001b[0;32m   1347\u001b[0m     \u001b[39mand\u001b[39;00m executing_eagerly):\n\u001b[0;32m   1348\u001b[0m   \u001b[39m# No tape is watching; skip to running the function.\u001b[39;00m\n\u001b[1;32m-> 1349\u001b[0m   \u001b[39mreturn\u001b[39;00m \u001b[39mself\u001b[39m\u001b[39m.\u001b[39m_build_call_outputs(\u001b[39mself\u001b[39;49m\u001b[39m.\u001b[39;49m_inference_function(\u001b[39m*\u001b[39;49margs))\n\u001b[0;32m   1350\u001b[0m forward_backward \u001b[39m=\u001b[39m \u001b[39mself\u001b[39m\u001b[39m.\u001b[39m_select_forward_and_backward_functions(\n\u001b[0;32m   1351\u001b[0m     args,\n\u001b[0;32m   1352\u001b[0m     possible_gradient_type,\n\u001b[0;32m   1353\u001b[0m     executing_eagerly)\n\u001b[0;32m   1354\u001b[0m forward_function, args_with_tangents \u001b[39m=\u001b[39m forward_backward\u001b[39m.\u001b[39mforward()\n",
      "File \u001b[1;32mc:\\Users\\StefanoCarobene\\anaconda3\\envs\\machine_learning\\Lib\\site-packages\\tensorflow\\python\\eager\\polymorphic_function\\atomic_function.py:196\u001b[0m, in \u001b[0;36mAtomicFunction.__call__\u001b[1;34m(self, *args)\u001b[0m\n\u001b[0;32m    194\u001b[0m \u001b[39mwith\u001b[39;00m record\u001b[39m.\u001b[39mstop_recording():\n\u001b[0;32m    195\u001b[0m   \u001b[39mif\u001b[39;00m \u001b[39mself\u001b[39m\u001b[39m.\u001b[39m_bound_context\u001b[39m.\u001b[39mexecuting_eagerly():\n\u001b[1;32m--> 196\u001b[0m     outputs \u001b[39m=\u001b[39m \u001b[39mself\u001b[39;49m\u001b[39m.\u001b[39;49m_bound_context\u001b[39m.\u001b[39;49mcall_function(\n\u001b[0;32m    197\u001b[0m         \u001b[39mself\u001b[39;49m\u001b[39m.\u001b[39;49mname,\n\u001b[0;32m    198\u001b[0m         \u001b[39mlist\u001b[39;49m(args),\n\u001b[0;32m    199\u001b[0m         \u001b[39mlen\u001b[39;49m(\u001b[39mself\u001b[39;49m\u001b[39m.\u001b[39;49mfunction_type\u001b[39m.\u001b[39;49mflat_outputs),\n\u001b[0;32m    200\u001b[0m     )\n\u001b[0;32m    201\u001b[0m   \u001b[39melse\u001b[39;00m:\n\u001b[0;32m    202\u001b[0m     outputs \u001b[39m=\u001b[39m make_call_op_in_graph(\u001b[39mself\u001b[39m, \u001b[39mlist\u001b[39m(args))\n",
      "File \u001b[1;32mc:\\Users\\StefanoCarobene\\anaconda3\\envs\\machine_learning\\Lib\\site-packages\\tensorflow\\python\\eager\\context.py:1457\u001b[0m, in \u001b[0;36mContext.call_function\u001b[1;34m(self, name, tensor_inputs, num_outputs)\u001b[0m\n\u001b[0;32m   1455\u001b[0m cancellation_context \u001b[39m=\u001b[39m cancellation\u001b[39m.\u001b[39mcontext()\n\u001b[0;32m   1456\u001b[0m \u001b[39mif\u001b[39;00m cancellation_context \u001b[39mis\u001b[39;00m \u001b[39mNone\u001b[39;00m:\n\u001b[1;32m-> 1457\u001b[0m   outputs \u001b[39m=\u001b[39m execute\u001b[39m.\u001b[39;49mexecute(\n\u001b[0;32m   1458\u001b[0m       name\u001b[39m.\u001b[39;49mdecode(\u001b[39m\"\u001b[39;49m\u001b[39mutf-8\u001b[39;49m\u001b[39m\"\u001b[39;49m),\n\u001b[0;32m   1459\u001b[0m       num_outputs\u001b[39m=\u001b[39;49mnum_outputs,\n\u001b[0;32m   1460\u001b[0m       inputs\u001b[39m=\u001b[39;49mtensor_inputs,\n\u001b[0;32m   1461\u001b[0m       attrs\u001b[39m=\u001b[39;49mattrs,\n\u001b[0;32m   1462\u001b[0m       ctx\u001b[39m=\u001b[39;49m\u001b[39mself\u001b[39;49m,\n\u001b[0;32m   1463\u001b[0m   )\n\u001b[0;32m   1464\u001b[0m \u001b[39melse\u001b[39;00m:\n\u001b[0;32m   1465\u001b[0m   outputs \u001b[39m=\u001b[39m execute\u001b[39m.\u001b[39mexecute_with_cancellation(\n\u001b[0;32m   1466\u001b[0m       name\u001b[39m.\u001b[39mdecode(\u001b[39m\"\u001b[39m\u001b[39mutf-8\u001b[39m\u001b[39m\"\u001b[39m),\n\u001b[0;32m   1467\u001b[0m       num_outputs\u001b[39m=\u001b[39mnum_outputs,\n\u001b[1;32m   (...)\u001b[0m\n\u001b[0;32m   1471\u001b[0m       cancellation_manager\u001b[39m=\u001b[39mcancellation_context,\n\u001b[0;32m   1472\u001b[0m   )\n",
      "File \u001b[1;32mc:\\Users\\StefanoCarobene\\anaconda3\\envs\\machine_learning\\Lib\\site-packages\\tensorflow\\python\\eager\\execute.py:53\u001b[0m, in \u001b[0;36mquick_execute\u001b[1;34m(op_name, num_outputs, inputs, attrs, ctx, name)\u001b[0m\n\u001b[0;32m     51\u001b[0m \u001b[39mtry\u001b[39;00m:\n\u001b[0;32m     52\u001b[0m   ctx\u001b[39m.\u001b[39mensure_initialized()\n\u001b[1;32m---> 53\u001b[0m   tensors \u001b[39m=\u001b[39m pywrap_tfe\u001b[39m.\u001b[39;49mTFE_Py_Execute(ctx\u001b[39m.\u001b[39;49m_handle, device_name, op_name,\n\u001b[0;32m     54\u001b[0m                                       inputs, attrs, num_outputs)\n\u001b[0;32m     55\u001b[0m \u001b[39mexcept\u001b[39;00m core\u001b[39m.\u001b[39m_NotOkStatusException \u001b[39mas\u001b[39;00m e:\n\u001b[0;32m     56\u001b[0m   \u001b[39mif\u001b[39;00m name \u001b[39mis\u001b[39;00m \u001b[39mnot\u001b[39;00m \u001b[39mNone\u001b[39;00m:\n",
      "\u001b[1;31mKeyboardInterrupt\u001b[0m: "
     ]
    }
   ],
   "source": [
    "\n",
    "# Define the encoder-decoder architecture\n",
    "input_img = Input(shape=(64, 64, 50))  # Input shape for brain scans\n",
    "x = Conv2D(64, (3, 3), activation='relu', padding='same')(input_img)\n",
    "\n",
    "x = MaxPooling2D((2, 2), padding='same')(x)\n",
    "x = Conv2D(128, (3, 3), activation='relu', padding='same')(x)\n",
    "x = Conv2D(128, (3, 3), activation='relu', padding='same')(x)\n",
    "\n",
    "x = MaxPooling2D((2, 2), padding='same')(x)\n",
    "x = Conv2D(256, (3, 3), activation='relu', padding='same')(x)\n",
    "x = Conv2D(256, (3, 3), activation='relu', padding='same')(x)\n",
    "\n",
    "x = Conv2D(512, (3, 3), activation='relu', padding='same')(x)\n",
    "x = Conv2D(512, (3, 3), activation='relu', padding='same')(x)\n",
    "\n",
    "x = Conv2D(1024, (3, 3), activation='relu', padding='same')(x)\n",
    "x = Conv2D(1024, (3, 3), activation='relu', padding='same')(x)\n",
    "\n",
    "\n",
    "encoded = MaxPooling2D((2, 2), padding='same')(x)\n",
    "\n",
    "# At this point, the encoded representation is (8, 8, 128)\n",
    "\n",
    "# Decoder\n",
    "x = Conv2D(1024, (3, 3), activation='relu', padding='same')(encoded)\n",
    "x = Conv2D(1024, (3, 3), activation='relu', padding='same')(x)\n",
    "\n",
    "x = Conv2D(512, (3, 3), activation='relu', padding='same')(x)\n",
    "x = Conv2D(512, (3, 3), activation='relu', padding='same')(x)\n",
    "\n",
    "x = Conv2D(256, (3, 3), activation='relu', padding='same')(x)\n",
    "x = Conv2D(256, (3, 3), activation='relu', padding='same')(x)\n",
    "x = UpSampling2D((2, 2))(x)\n",
    "\n",
    "x = Conv2D(128, (3, 3), activation='relu', padding='same')(x)\n",
    "x = Conv2D(128, (3, 3), activation='relu', padding='same')(x)\n",
    "x = UpSampling2D((2, 2))(x)\n",
    "\n",
    "x = Conv2D(64, (3, 3), activation='relu', padding='same')(x)\n",
    "x = Conv2D(64, (3, 3), activation='relu', padding='same')(x)\n",
    "x = UpSampling2D((2, 2))(x)\n",
    "\n",
    "decoded = Conv2D(3, (3, 3), activation='sigmoid', padding='same')(x)  # Output has 3 channels for RGB images\n",
    "# attivazione potrebbe ess. da cambiare\n",
    "\n",
    "\n",
    "# Define the callbacks\n",
    "callbacks = [\n",
    "    EarlyStopping(monitor='val_loss', patience=10, restore_best_weights=True),\n",
    "    # ReduceLROnPlateau(monitor='val_loss', factor=0.1, mode = 'auto', patience=5, min_lr=0.0001, verbose=1)\n",
    "    LearningRateScheduler(lambda epoch: 1e-3 * tf.math.exp(-0.1*(epoch//10)))\n",
    "]\n",
    "\n",
    "\n",
    "autoencoder = Model(input_img, decoded)\n",
    "autoencoder.compile(optimizer='adam', loss=MeanAbsoluteError(), metrics=RootMeanSquaredError())  # You can use other loss functions depending on your data and goals\n",
    "\n",
    "\n",
    "# Train the autoencoder\n",
    "autoencoder.fit(brain_scans, \n",
    "                images, \n",
    "                epochs=50, \n",
    "                batch_size=64, \n",
    "                shuffle=True, \n",
    "                validation_split=0.2,\n",
    "                steps_per_epoch=107,\n",
    "                initial_epoch=0,\n",
    "                callbacks=callbacks\n",
    "                )\n",
    "\n",
    "\n",
    "model_path = fr\"autoencoder.keras\"\n",
    "# Save the model\n",
    "autoencoder.save_weights(model_path)"
   ]
  },
  {
   "cell_type": "code",
   "execution_count": null,
   "metadata": {},
   "outputs": [],
   "source": [
    "model_path = fr\"autoencoder.keras\"\n",
    "# Save the model\n",
    "autoencoder.load_weights(model_path)\n",
    "\n",
    "\n",
    "\n",
    "brain_train = brain_scans[100, :, :, :]\n",
    "image_train = images[100, :, :, :]\n",
    "single_brain_scan = np.expand_dims(brain_train, axis=0)\n",
    "reconstructed_train = autoencoder.predict(single_brain_scan)\n",
    "\n",
    "image_train= image_train[:, :, :]\n",
    "\n",
    "image_train = ( image_train * 255).astype(np.uint8)\n",
    "\n",
    "reconstructed_image = reconstructed_train[0, :, :, :]\n",
    "\n",
    "reconstructed_image = (reconstructed_image * 255).astype(np.uint8)\n",
    "\n",
    "print(image_train.shape)\n",
    "\n",
    "print(reconstructed_image.shape)\n",
    "\n",
    "\n",
    "Image.fromarray(image_train, mode=\"RGB\").save(\"img.png\")\n",
    "\n",
    "Image.fromarray(reconstructed_image, mode=\"RGB\").save(\"img2.png\")\n"
   ]
  },
  {
   "cell_type": "markdown",
   "metadata": {},
   "source": [
    "## Seconda prova "
   ]
  },
  {
   "cell_type": "code",
   "execution_count": 18,
   "metadata": {},
   "outputs": [
    {
     "name": "stdout",
     "output_type": "stream",
     "text": [
      "1/1 [==============================] - 25s 25s/step - loss: 0.2004 - root_mean_squared_error: 0.4476 - val_loss: 0.1834 - val_root_mean_squared_error: 0.4282\n"
     ]
    },
    {
     "data": {
      "text/plain": [
       "<keras.src.callbacks.History at 0x1fdb2491350>"
      ]
     },
     "execution_count": 18,
     "metadata": {},
     "output_type": "execute_result"
    }
   ],
   "source": [
    "import numpy as np\n",
    "import tensorflow as tf\n",
    "from tensorflow.keras.layers import Input, Conv2D, MaxPooling2D, UpSampling2D, Dense, Flatten, BatchNormalization\n",
    "from tensorflow.keras.models import Model\n",
    "from tensorflow.keras.callbacks import ModelCheckpoint, EarlyStopping, TensorBoard, ReduceLROnPlateau, LearningRateScheduler\n",
    "from tensorflow.keras.metrics import RootMeanSquaredError, MeanAbsoluteError, MeanSquaredLogarithmicError, CosineSimilarity, LogCoshError\n",
    "import matplotlib.pyplot as plt\n",
    "\n",
    "# load preprocessed data\n",
    "images = np.load(fr\"ses-perceptionTrainingImages.npy\")\n",
    "brain_scans = np.load(fr\"ses-perceptionTraining-001.npy\")\n",
    "\n",
    "# encoder-decoder architecture with residual connections and batch normalization\n",
    "def build_autoencoder_with_residual():\n",
    "    input_img = Input(shape=(64, 64, 50))\n",
    "    \n",
    "    # encoder\n",
    "    x = Conv2D(64, (3, 3), activation='relu', padding='same')(input_img)\n",
    "    x = BatchNormalization()(x)\n",
    "    x = Conv2D(64, (3, 3), activation='relu', padding='same')(x)\n",
    "    x = BatchNormalization()(x)\n",
    "    \n",
    "    x = MaxPooling2D((2, 2), padding='same')(x)\n",
    "    residual_1 = x  # residual connection\n",
    "    \n",
    "    x = Conv2D(128, (3, 3), activation='relu', padding='same')(x)\n",
    "    x = BatchNormalization()(x)\n",
    "    x = Conv2D(128, (3, 3), activation='relu', padding='same')(x)\n",
    "    x = BatchNormalization()(x)\n",
    "    \n",
    "    x = MaxPooling2D((2, 2), padding='same')(x)\n",
    "    residual_2 = x  # residual connection\n",
    "    \n",
    "    x = Conv2D(256, (3, 3), activation='relu', padding='same')(x)\n",
    "    x = BatchNormalization()(x)\n",
    "    x = Conv2D(256, (3, 3), activation='relu', padding='same')(x)\n",
    "    x = BatchNormalization()(x)\n",
    "    x = MaxPooling2D((2, 2), padding='same')(x)\n",
    "    \n",
    "    x = Conv2D(512, (3, 3), activation='relu', padding='same')(x)\n",
    "    x = BatchNormalization()(x)\n",
    "    x = Conv2D(512, (3, 3), activation='relu', padding='same')(x)\n",
    "    x = BatchNormalization()(x)\n",
    "    x = MaxPooling2D((2, 2), padding='same')(x)\n",
    "    \n",
    "    x = Conv2D(1024, (3, 3), activation='relu', padding='same')(x)\n",
    "    x = BatchNormalization()(x)\n",
    "    x = Conv2D(1024, (3, 3), activation='relu', padding='same')(x)\n",
    "    x = BatchNormalization()(x)\n",
    "    encoded = MaxPooling2D((2, 2), padding='same')(x)\n",
    "\n",
    "    # decoder\n",
    "    x = Conv2D(1024, (3, 3), activation='relu', padding='same')(encoded)\n",
    "    x = BatchNormalization()(x)\n",
    "    x = Conv2D(1024, (3, 3), activation='relu', padding='same')(x)\n",
    "    x = BatchNormalization()(x)\n",
    "    x = UpSampling2D((2, 2))(x)\n",
    "    x = Conv2D(512, (3, 3), activation='relu', padding='same')(x)\n",
    "    x = BatchNormalization()(x)\n",
    "    x = Conv2D(512, (3, 3), activation='relu', padding='same')(x)\n",
    "    x = BatchNormalization()(x)\n",
    "    x = UpSampling2D((2, 2))(x)\n",
    "    x = Conv2D(256, (3, 3), activation='relu', padding='same')(x)\n",
    "    x = BatchNormalization()(x)\n",
    "    x = Conv2D(256, (3, 3), activation='relu', padding='same')(x)\n",
    "    x = BatchNormalization()(x)\n",
    "    x = UpSampling2D((2, 2))(x)\n",
    "    x = Conv2D(128, (3, 3), activation='relu', padding='same')(x)\n",
    "    x = BatchNormalization()(x)\n",
    "    x = Conv2D(128, (3, 3), activation='relu', padding='same')(x)\n",
    "    x = BatchNormalization()(x)\n",
    "    # x = tf.keras.layers.Add()([x, residual_2])\n",
    "    x += residual_2\n",
    "    x = UpSampling2D((2, 2))(x)\n",
    "    x = Conv2D(64, (3, 3), activation='relu', padding='same')(x)\n",
    "    x = BatchNormalization()(x)\n",
    "    x = Conv2D(64, (3, 3), activation='relu', padding='same')(x)\n",
    "    x = BatchNormalization()(x)\n",
    "    # x = tf.keras.layers.Add()([x, residual_1])\n",
    "    x += residual_1\n",
    "    x = UpSampling2D((2, 2))(x)\n",
    "    decoded = Conv2D(3, (3, 3), activation='sigmoid', padding='same')(x)\n",
    "    \n",
    "    autoencoder = Model(input_img, decoded)\n",
    "    return autoencoder\n",
    "\n",
    "\n",
    "autoencoder_with_residual = build_autoencoder_with_residual()\n",
    "autoencoder_with_residual.compile(optimizer='sgd', loss='mean_squared_error', metrics=RootMeanSquaredError())\n",
    "\n",
    "# callbacks\n",
    "callbacks = [\n",
    "    EarlyStopping(monitor='val_loss', patience=10, restore_best_weights=True),\n",
    "    ReduceLROnPlateau(monitor='val_loss', factor=0.1, mode = 'auto', patience=5, min_lr=0.0001, verbose=1),\n",
    "    LearningRateScheduler(lambda epoch: 1e-3 * tf.math.exp(-0.1*(epoch//10)))\n",
    "]\n",
    "\n",
    "# training\n",
    "autoencoder_with_residual.fit(brain_scans, images, \n",
    "                              epochs=50, batch_size=32, \n",
    "                              shuffle=True,\n",
    "                              validation_split=0.2)\n",
    "\n",
    "model_path = fr\"autoencoder.keras\"\n",
    "# Save the model\n",
    "autoencoder_with_residual.save_weights(model_path)\n",
    "\n",
    "# loss history\n",
    "awr = autoencoder_with_residual\n",
    "plt.plot(awr.history['loss'])\n",
    "plt.plot(awr.history['val_loss'])\n",
    "plt.title('model loss')\n",
    "plt.ylabel('loss')\n",
    "plt.xlabel('epoch')\n",
    "plt.legend(['train', 'test'], loc='upper left')\n",
    "plt.show()"
   ]
  },
  {
   "cell_type": "code",
   "execution_count": 20,
   "metadata": {},
   "outputs": [
    {
     "ename": "ImportError",
     "evalue": "`load_weights` requires h5py package when loading weights from HDF5. Try installing h5py.",
     "output_type": "error",
     "traceback": [
      "\u001b[1;31m---------------------------------------------------------------------------\u001b[0m",
      "\u001b[1;31mImportError\u001b[0m                               Traceback (most recent call last)",
      "\u001b[1;32mc:\\Users\\StefanoCarobene\\Desktop\\appunti\\DeepLearning_Project\\BrainImage.ipynb Cell 57\u001b[0m line \u001b[0;36m3\n\u001b[0;32m      <a href='vscode-notebook-cell:/c%3A/Users/StefanoCarobene/Desktop/appunti/DeepLearning_Project/BrainImage.ipynb#Y111sZmlsZQ%3D%3D?line=0'>1</a>\u001b[0m model_path \u001b[39m=\u001b[39m \u001b[39mfr\u001b[39m\u001b[39m\"\u001b[39m\u001b[39mc:\u001b[39m\u001b[39m\\\u001b[39m\u001b[39mUsers\u001b[39m\u001b[39m\\\u001b[39m\u001b[39mStefanoCarobene\u001b[39m\u001b[39m\\\u001b[39m\u001b[39mDownloads\u001b[39m\u001b[39m\\\u001b[39m\u001b[39mautoencoder\u001b[39m\u001b[39m\"\u001b[39m\n\u001b[0;32m      <a href='vscode-notebook-cell:/c%3A/Users/StefanoCarobene/Desktop/appunti/DeepLearning_Project/BrainImage.ipynb#Y111sZmlsZQ%3D%3D?line=1'>2</a>\u001b[0m \u001b[39m# Save the model\u001b[39;00m\n\u001b[1;32m----> <a href='vscode-notebook-cell:/c%3A/Users/StefanoCarobene/Desktop/appunti/DeepLearning_Project/BrainImage.ipynb#Y111sZmlsZQ%3D%3D?line=2'>3</a>\u001b[0m autoencoder_with_residual\u001b[39m.\u001b[39;49mload_weights(model_path)\n\u001b[0;32m      <a href='vscode-notebook-cell:/c%3A/Users/StefanoCarobene/Desktop/appunti/DeepLearning_Project/BrainImage.ipynb#Y111sZmlsZQ%3D%3D?line=6'>7</a>\u001b[0m brain_train \u001b[39m=\u001b[39m brain_scans[\u001b[39m1000\u001b[39m, :, :, :]\n\u001b[0;32m      <a href='vscode-notebook-cell:/c%3A/Users/StefanoCarobene/Desktop/appunti/DeepLearning_Project/BrainImage.ipynb#Y111sZmlsZQ%3D%3D?line=7'>8</a>\u001b[0m image_train \u001b[39m=\u001b[39m images[\u001b[39m1000\u001b[39m, :, :, :]\n",
      "File \u001b[1;32mc:\\Users\\StefanoCarobene\\anaconda3\\envs\\machine_learning\\Lib\\site-packages\\keras\\src\\utils\\traceback_utils.py:70\u001b[0m, in \u001b[0;36mfilter_traceback.<locals>.error_handler\u001b[1;34m(*args, **kwargs)\u001b[0m\n\u001b[0;32m     67\u001b[0m     filtered_tb \u001b[39m=\u001b[39m _process_traceback_frames(e\u001b[39m.\u001b[39m__traceback__)\n\u001b[0;32m     68\u001b[0m     \u001b[39m# To get the full stack trace, call:\u001b[39;00m\n\u001b[0;32m     69\u001b[0m     \u001b[39m# `tf.debugging.disable_traceback_filtering()`\u001b[39;00m\n\u001b[1;32m---> 70\u001b[0m     \u001b[39mraise\u001b[39;00m e\u001b[39m.\u001b[39mwith_traceback(filtered_tb) \u001b[39mfrom\u001b[39;00m \u001b[39mNone\u001b[39;00m\n\u001b[0;32m     71\u001b[0m \u001b[39mfinally\u001b[39;00m:\n\u001b[0;32m     72\u001b[0m     \u001b[39mdel\u001b[39;00m filtered_tb\n",
      "File \u001b[1;32mc:\\Users\\StefanoCarobene\\anaconda3\\envs\\machine_learning\\Lib\\site-packages\\keras\\src\\saving\\legacy\\save.py:475\u001b[0m, in \u001b[0;36mload_weights\u001b[1;34m(model, filepath, by_name, skip_mismatch, options)\u001b[0m\n\u001b[0;32m    473\u001b[0m status \u001b[39m=\u001b[39m \u001b[39mNone\u001b[39;00m\n\u001b[0;32m    474\u001b[0m \u001b[39mif\u001b[39;00m h5py \u001b[39mis\u001b[39;00m \u001b[39mNone\u001b[39;00m:\n\u001b[1;32m--> 475\u001b[0m     \u001b[39mraise\u001b[39;00m \u001b[39mImportError\u001b[39;00m(\n\u001b[0;32m    476\u001b[0m         \u001b[39m\"\u001b[39m\u001b[39m`load_weights` requires h5py package when loading weights \u001b[39m\u001b[39m\"\u001b[39m\n\u001b[0;32m    477\u001b[0m         \u001b[39m\"\u001b[39m\u001b[39mfrom HDF5. Try installing h5py.\u001b[39m\u001b[39m\"\u001b[39m\n\u001b[0;32m    478\u001b[0m     )\n\u001b[0;32m    479\u001b[0m \u001b[39mif\u001b[39;00m \u001b[39mnot\u001b[39;00m model\u001b[39m.\u001b[39m_is_graph_network \u001b[39mand\u001b[39;00m \u001b[39mnot\u001b[39;00m model\u001b[39m.\u001b[39mbuilt:\n\u001b[0;32m    480\u001b[0m     \u001b[39mraise\u001b[39;00m \u001b[39mValueError\u001b[39;00m(\n\u001b[0;32m    481\u001b[0m         \u001b[39m\"\u001b[39m\u001b[39mUnable to load weights saved in HDF5 format into a \u001b[39m\u001b[39m\"\u001b[39m\n\u001b[0;32m    482\u001b[0m         \u001b[39m\"\u001b[39m\u001b[39msubclassed Model which has not created its variables yet. \u001b[39m\u001b[39m\"\u001b[39m\n\u001b[0;32m    483\u001b[0m         \u001b[39m\"\u001b[39m\u001b[39mCall the Model first, then load the weights.\u001b[39m\u001b[39m\"\u001b[39m\n\u001b[0;32m    484\u001b[0m     )\n",
      "\u001b[1;31mImportError\u001b[0m: `load_weights` requires h5py package when loading weights from HDF5. Try installing h5py."
     ]
    }
   ],
   "source": [
    "model_path = fr\"c:\\Users\\StefanoCarobene\\Downloads\\autoencoder.keras\"\n",
    "# Save the model\n",
    "autoencoder_with_residual.load_weights(model_path)\n",
    "\n",
    "\n",
    "\n",
    "brain_train = brain_scans[1000, :, :, :]\n",
    "image_train = images[1000, :, :, :]\n",
    "single_brain_scan = np.expand_dims(brain_train, axis=0)\n",
    "reconstructed_train = autoencoder_with_residual.predict(single_brain_scan)\n",
    "\n",
    "image_train= image_train[:, :, :]\n",
    "\n",
    "image_train = ( image_train * 255).astype(np.uint8)\n",
    "\n",
    "reconstructed_image = reconstructed_train[0, :, :, :]\n",
    "\n",
    "reconstructed_image = (reconstructed_image * 255).astype(np.uint8)\n",
    "\n",
    "print(image_train.shape)\n",
    "\n",
    "print(reconstructed_image.shape)\n",
    "\n",
    "\n",
    "Image.fromarray(image_train, mode=\"RGB\").save(\"img.png\")\n",
    "\n",
    "Image.fromarray(reconstructed_image, mode=\"RGB\").save(\"img2.png\")\n"
   ]
  }
 ],
 "metadata": {
  "kernelspec": {
   "display_name": "machine_learning",
   "language": "python",
   "name": "python3"
  },
  "language_info": {
   "codemirror_mode": {
    "name": "ipython",
    "version": 3
   },
   "file_extension": ".py",
   "mimetype": "text/x-python",
   "name": "python",
   "nbconvert_exporter": "python",
   "pygments_lexer": "ipython3",
   "version": "3.11.5"
  },
  "orig_nbformat": 4
 },
 "nbformat": 4,
 "nbformat_minor": 2
}
